{
 "cells": [
  {
   "cell_type": "code",
   "execution_count": 14,
   "metadata": {},
   "outputs": [],
   "source": [
    "from langchain_community.document_loaders import PyPDFDirectoryLoader\n",
    "from langchain.text_splitter import RecursiveCharacterTextSplitter\n",
    "from langchain.prompts import PromptTemplate\n",
    "from langchain.chains import RetrievalQA\n",
    "from langchain_community.embeddings import OpenAIEmbeddings\n",
    "from langchain_community.vectorstores import Chroma\n",
    "from langchain.chains.combine_documents.stuff import StuffDocumentsChain\n",
    "from langchain.chains.llm import LLMChain\n",
    "from langchain_openai import ChatOpenAI\n",
    "\n",
    "\n",
    "import os\n",
    "import warnings\n",
    "warnings.filterwarnings('ignore')\n",
    "from dotenv import load_dotenv\n",
    "load_dotenv()\n",
    "\n",
    "# Set environment variables\n",
    "os.environ[\"OPENAI_API_KEY\"] = os.getenv(\"OPENAI_API_KEY\")\n",
    "os.environ[\"LANGCHAIN_TRACING_V2\"] = \"true\"\n",
    "os.environ[\"LANGCHAIN_API_KEY\"] = os.getenv(\"LANGCHAIN_API_KEY\")"
   ]
  },
  {
   "cell_type": "code",
   "execution_count": 3,
   "metadata": {},
   "outputs": [
    {
     "data": {
      "text/plain": [
       "Document(metadata={'source': 'Reasearch-Papers/The quality management ecosystem for predictive maintenance in the Industry 4.0 era_.pdf', 'page': 0}, page_content='THEORETICAL ARTICLE Open Access\\nThe quality management ecosystem for\\npredictive maintenance in the Industry\\n4.0 era\\nSang M. Lee1, DonHee Lee2*and Youn Sung Kim2\\n* Correspondence: dhlee04@inha.ac.\\nkr\\n2College of Business Administration,\\nInha University, Incheon, South\\nKorea\\nFull list of author information is\\navailable at the end of the articleAbstract\\nThe Industry 4.0 era requires new quality management systems due to the ever\\nincreasing complexity of the global business environment and the advent of advanced\\ndigital technologies. This study presents new ideas for predictive quality management\\nbased on an extensive review of the literature on quality management and five real-\\nworld cases of predictive quality managem ent based on new technologies. The results\\nof the study indicate that advanced technology enabled predictive maintenance can be\\napplied in various industries by leveraging bi g data analytics, smart sensors, artificial')"
      ]
     },
     "execution_count": 3,
     "metadata": {},
     "output_type": "execute_result"
    }
   ],
   "source": [
    "## Read the ppdfs from the folder\n",
    "loader=PyPDFDirectoryLoader(\"./Reasearch-Papers\")\n",
    "\n",
    "documents=loader.load()\n",
    "\n",
    "text_splitter=RecursiveCharacterTextSplitter(chunk_size=1000,chunk_overlap=200)\n",
    "    \n",
    "final_documents=text_splitter.split_documents(documents)\n",
    "final_documents[0]"
   ]
  },
  {
   "cell_type": "code",
   "execution_count": 5,
   "metadata": {},
   "outputs": [
    {
     "name": "stderr",
     "output_type": "stream",
     "text": [
      "/home/anas/Desktop/Literature-Review-Writer/venv/lib/python3.10/site-packages/langchain_core/_api/deprecation.py:139: LangChainDeprecationWarning: The class `OpenAIEmbeddings` was deprecated in LangChain 0.0.9 and will be removed in 0.3.0. An updated version of the class exists in the langchain-openai package and should be used instead. To use it run `pip install -U langchain-openai` and import as `from langchain_openai import OpenAIEmbeddings`.\n",
      "  warn_deprecated(\n"
     ]
    }
   ],
   "source": [
    "db_chroma = Chroma.from_documents(final_documents, OpenAIEmbeddings())"
   ]
  },
  {
   "cell_type": "code",
   "execution_count": 33,
   "metadata": {},
   "outputs": [],
   "source": [
    "literature_review_template = PromptTemplate(\n",
    "    input_variables=[\"context\", \"question\"],\n",
    "    template=\"\"\"\n",
    "    Based on the following research papers:\n",
    "    {context}\n",
    "    \n",
    "    Write a comprehensive literature review addressing the research question:\n",
    "    {question}\n",
    "    \n",
    "    The literature review should:\n",
    "    1. Summarize key findings and methodologies\n",
    "    2. Identify trends and patterns in the research\n",
    "    3. Highlight gaps or contradictions in the existing literature\n",
    "    4. Explain how the current research relates to previous studies\n",
    "    \"\"\"\n",
    ")"
   ]
  },
  {
   "cell_type": "code",
   "execution_count": 34,
   "metadata": {},
   "outputs": [],
   "source": [
    "llm = ChatOpenAI(model_name=\"gpt-3.5-turbo\", temperature=0.7)\n",
    "\n",
    "\n"
   ]
  },
  {
   "cell_type": "code",
   "execution_count": 31,
   "metadata": {},
   "outputs": [],
   "source": [
    "llm_chain = LLMChain(llm=llm, prompt=literature_review_template)\n"
   ]
  },
  {
   "cell_type": "code",
   "execution_count": 35,
   "metadata": {},
   "outputs": [],
   "source": [
    "stuff_chain = StuffDocumentsChain(\n",
    "    llm_chain=llm_chain,\n",
    "    document_variable_name=\"context\",\n",
    ")"
   ]
  },
  {
   "cell_type": "code",
   "execution_count": 36,
   "metadata": {},
   "outputs": [],
   "source": [
    "retriever = db_chroma.as_retriever(search_kwargs={\"k\": 5})"
   ]
  },
  {
   "cell_type": "code",
   "execution_count": 37,
   "metadata": {},
   "outputs": [],
   "source": [
    "qa_chain = RetrievalQA.from_chain_type(\n",
    "    llm=llm,\n",
    "    chain_type=\"stuff\",\n",
    "    retriever=retriever,\n",
    "    return_source_documents=True,\n",
    "    chain_type_kwargs={\n",
    "        \"prompt\": literature_review_template\n",
    "    }\n",
    ")"
   ]
  },
  {
   "cell_type": "code",
   "execution_count": 39,
   "metadata": {},
   "outputs": [],
   "source": [
    "def generate_literature_review(research_question):\n",
    "    # Retrieve relevant documents\n",
    "    docs = retriever.get_relevant_documents(research_question)\n",
    "    \n",
    "    # Use StuffDocumentsChain to process the documents and generate the review\n",
    "    result = stuff_chain.run(input_documents=docs, question=research_question)\n",
    "    \n",
    "    return result"
   ]
  },
  {
   "cell_type": "code",
   "execution_count": 42,
   "metadata": {},
   "outputs": [
    {
     "name": "stdout",
     "output_type": "stream",
     "text": [
      "The research papers reviewed in this literature review focus on the condition monitoring and fault diagnosis of bearings, particularly in induction motors. The studies utilize various techniques such as artificial neural networks (ANN), feature extraction, classification, and deep learning algorithms to enhance the detection and analysis of bearing faults. The advancements in these methodologies have led to more efficient and accurate diagnosis of bearing faults, which are crucial in preventing machinery breakdowns and improving overall performance.\n",
      "\n",
      "Patel and Giri (2016) conducted a study on the performance evaluation of Bearing Damage Index (BDI) using ANN for condition monitoring of induction motor bearings. They found that the ANN-based approach provided effective results in detecting bearing faults. In their subsequent study in 2018, Patel and Giri focused on feature extraction and classification techniques for bearing fault analysis in induction motors, demonstrating the importance of advanced methodologies in fault diagnosis.\n",
      "\n",
      "Pham, Kim, and Kim (2020) introduced a deep learning-based method for bearing fault diagnosis in embedded systems, showcasing the use of cutting-edge technology to enhance fault detection capabilities. Meanwhile, Plakias and Boutalis (2020) explored fault detection and identification of rolling element bearings using attentive mechanical systems. These studies highlight the importance of utilizing advanced techniques to improve the accuracy and efficiency of bearing fault diagnosis.\n",
      "\n",
      "The literature also includes studies on cage dynamics in rolling bearings, investigating factors that impact the performance and stability of bearings. Schwarz et al. (2019) and Kingsbury (1994) delved into cage dynamics and torque variations in ball bearings, shedding light on the complexities of bearing behavior. Additionally, Ghaisas et al. (2004) examined cage instabilities in cylindrical roller bearings, further contributing to the understanding of bearing faults.\n",
      "\n",
      "Overall, the reviewed research papers demonstrate a trend towards the development and application of advanced methodologies such as ANN, deep learning, and attentive mechanical systems in bearing fault diagnosis. These advancements have significantly improved the accuracy and efficiency of detecting bearing faults, ultimately leading to enhanced machinery performance and reliability. However, there are still gaps in the literature concerning the integration of machine learning algorithms and dynamics simulations for predicting bearing cage dynamics. Future research could focus on bridging these gaps to further enhance the understanding and diagnosis of bearing faults.\n"
     ]
    }
   ],
   "source": [
    "research_question = \"Tell me about these research papers and how they relate to bearing?\"\n",
    "result = generate_literature_review(research_question)\n",
    "print(result)"
   ]
  }
 ],
 "metadata": {
  "kernelspec": {
   "display_name": "Python 3",
   "language": "python",
   "name": "python3"
  },
  "language_info": {
   "codemirror_mode": {
    "name": "ipython",
    "version": 3
   },
   "file_extension": ".py",
   "mimetype": "text/x-python",
   "name": "python",
   "nbconvert_exporter": "python",
   "pygments_lexer": "ipython3",
   "version": "3.10.12"
  }
 },
 "nbformat": 4,
 "nbformat_minor": 2
}
